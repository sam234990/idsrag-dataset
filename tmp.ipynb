{
 "cells": [
  {
   "cell_type": "code",
   "execution_count": null,
   "metadata": {},
   "outputs": [],
   "source": [
    "import os \n",
    "\n",
    "for i in range(1457):\n",
    "    base_path = f\"/mnt/data/wangshu/hcarag/ids_data/narrative/{i}\"\n",
    "    # Change file name\n",
    "    os.rename(f\"{base_path}/narrativeqa.json\", f\"{base_path}/Question.json\")\n",
    "    os.rename(f\"{base_path}/corpus.json\", f\"{base_path}/Corpus.json\")\n",
    "    \n",
    "print(\"finish\")"
   ]
  }
 ],
 "metadata": {
  "kernelspec": {
   "display_name": "rag",
   "language": "python",
   "name": "python3"
  },
  "language_info": {
   "name": "python",
   "version": "3.10.14"
  }
 },
 "nbformat": 4,
 "nbformat_minor": 2
}
