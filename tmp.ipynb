{
 "cells": [
  {
   "cell_type": "code",
   "execution_count": 1,
   "metadata": {},
   "outputs": [
    {
     "name": "stdout",
     "output_type": "stream",
     "text": [
      "finish\n"
     ]
    }
   ],
   "source": [
    "import os \n",
    "\n",
    "for i in range(1457):\n",
    "    base_path = f\"/mnt/data/wangshu/hcarag/ids_data/narrative/{i}\"\n",
    "    # Change file name\n",
    "    os.rename(f\"{base_path}/narrativeqa.json\", f\"{base_path}/Question.json\")\n",
    "    os.rename(f\"{base_path}/corpus.json\", f\"{base_path}/Corpus.json\")\n",
    "    \n",
    "print(\"finish\")"
   ]
  }
 ],
 "metadata": {
  "kernelspec": {
   "display_name": "rag",
   "language": "python",
   "name": "python3"
  },
  "language_info": {
   "codemirror_mode": {
    "name": "ipython",
    "version": 3
   },
   "file_extension": ".py",
   "mimetype": "text/x-python",
   "name": "python",
   "nbconvert_exporter": "python",
   "pygments_lexer": "ipython3",
   "version": "3.10.14"
  }
 },
 "nbformat": 4,
 "nbformat_minor": 2
}
